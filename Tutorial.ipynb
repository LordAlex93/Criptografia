{
 "cells": [
  {
   "cell_type": "markdown",
   "id": "a0b6e9e0-474a-45b0-8614-d0de45ec89d7",
   "metadata": {},
   "source": [
    "# Criptosistema de McEliece\n",
    "Breve tutorial sobre cómo implementar el criptosistema de McEliece en SageMath."
   ]
  },
  {
   "cell_type": "markdown",
   "id": "7c91435b-e61d-4625-9438-818e4424ae41",
   "metadata": {},
   "source": [
    "#### En primer lugar veamos cómo funciona el criptosistema para ver qué necesitamos definir:"
   ]
  },
  {
   "cell_type": "markdown",
   "id": "ff7bdd18-4510-4536-b7ee-86a1891f9418",
   "metadata": {},
   "source": [
    "La versión original del criptosistema McEliece dada por Robert J. McEliece, basado en códigos binarios de Goppa en el año 1978, se describe de la siguiente manera. Los valores de $\\textbf{n}$, $\\textbf{k}$ y $\\textbf{t}$ son parámetros disponibles públicamente, pero $L$, $g$, $P$ y $S$ son secretos generados al azar. Entonces, este criptosistema de clave pública funciona con los siguientes pasos:\n",
    "\n",
    "Paso 1: En primer lugar, Alice genera un par de claves públicas y privadas en función de los valores disponibles públicamente. Durante esto:\n",
    "\n",
    "1. Alice selecciona un $\\left[\\textbf{n},\\textbf{k}\\right]-$código binario de Goppa, con su matriz generatriz G de dimensión $\\textbf{k}\\times\\textbf{n}$, capaz de corregir $\\textbf{t}$ errores.\n",
    "\n",
    "2. Después, selecciona una matriz $S$ binaria, no singular, de dimensión $\\textbf{k}\\times\\textbf{k}$ y una matriz permutación $P$ de dimensión $\\textbf{n}\\times\\textbf{n}$.\n",
    "\n",
    "3. Hace el cálculo de la matriz $\\textbf{k}\\times\\textbf{n}$, $\\hat{\\textbf{G}}=S\\cdot G\\cdot P$.\n",
    "\n",
    "4. Publica su clave pública: $\\left(\\hat{\\textbf{G}},\\textbf{t}\\right)$.\n",
    "\n",
    "5. Mantiene privada la clave: $\\left(S,G,P\\right)$.\n",
    "\n",
    "Paso 2: Supongamos que Bob tiene que enviar un mensaje cifrado a Alice:\n",
    "\n",
    "1. Bob tiene un mensaje binario de texto plano $m$ de longitud $k$.\n",
    "\n",
    "2. Carga la clave pública de Alice: $\\left(\\hat{\\textbf{G}},\\textbf{t}\\right)$.\n",
    "\n",
    "3. Genera un vector aleatorio $z$ de $n-$bits con peso $w(z)=t$.\n",
    "\n",
    "4. Bob calcula el texto cifrado $c=m\\cdot\\hat{\\textbf{G}}+z$ y lo envía a Alice.\n",
    "\n",
    "Paso 3: Supongamos que Alice ha recibido el texto cifrado $c$. Ella descifra el texto cifrado recibido como:\n",
    "\n",
    "1. Alice calcula $P^{-1}$ usando su clave privada.\n",
    "\n",
    "2. Multiplicamos el texto recibido por $P^{-1}$:$$c\\cdot P^{-1}=m\\cdot S\\cdot G+z\\cdot P^{-1}$$\n",
    "\n",
    "3. Finalmente, utiliza el algoritmo de descodificación de los códigos Goppa para determinar el valor de $m$."
   ]
  },
  {
   "cell_type": "markdown",
   "id": "b39f61db-0f7d-4d11-a3c6-a654c2a81caf",
   "metadata": {},
   "source": [
    "## Paso 1. Generamos un par de claves públicas y privadas."
   ]
  },
  {
   "cell_type": "markdown",
   "id": "6451c3b6-5208-45ca-9f98-561db5527178",
   "metadata": {},
   "source": [
    "#### 1. Necesitamos definir un código de Goppa."
   ]
  },
  {
   "cell_type": "markdown",
   "id": "c6ba3cd2-65cd-458c-9e70-7b92f0bbacea",
   "metadata": {},
   "source": [
    "Para definir un código de Goppa recurrimos a una de las librerías predefinidas en SageMath."
   ]
  },
  {
   "cell_type": "markdown",
   "id": "2cd35718-73f6-4b14-98a7-617653608546",
   "metadata": {},
   "source": [
    "Definamos los parámetros iniciales para obtener un código de Goppa, donde $n$ es la dimensión, $\\mathbb{F}_{q^m}$ el cuerpo donde están definidos los caracteres del mensaje y $t$ se corresponde al grado del polinomio generador del código, al ser un código de Goppa, este parámetro denota la capacidad de corrección del código."
   ]
  },
  {
   "cell_type": "code",
   "execution_count": 1,
   "id": "06f618ac-ea55-4798-a55b-8a060837dbdc",
   "metadata": {},
   "outputs": [],
   "source": [
    "n = 14\n",
    "q = 2\n",
    "m = 4\n",
    "t = 2\n",
    "\n",
    "F.<a>=GF(q**m);\n",
    "PolRing=PolynomialRing(F,'x');\n",
    "x=PolRing.gen();"
   ]
  },
  {
   "cell_type": "markdown",
   "id": "b091bcaa-9d34-4ad2-9157-89a9879be468",
   "metadata": {},
   "source": [
    "Una vez que tenemos definidos los parámetros iniciales, el cuerpo en el que vamos a trabajar y la variable del polinomio, tenemos que construir un polinomio $g(x)$ de grado $t$ que sea irreducible. Para ello realizamos el siguiente proceso:"
   ]
  },
  {
   "cell_type": "code",
   "execution_count": 38,
   "id": "5f1ffbdf-cdfd-43db-ae2f-543167e722cb",
   "metadata": {},
   "outputs": [
    {
     "data": {
      "text/plain": [
       "x^2 + (a^3 + a^2 + a)*x + a"
      ]
     },
     "execution_count": 38,
     "metadata": {},
     "output_type": "execute_result"
    }
   ],
   "source": [
    "g = 0\n",
    "check = True\n",
    "while check:\n",
    "    h = PolRing.random_element()\n",
    "    if h.is_irreducible() and h.degree() == t and h[t]==1:\n",
    "        g += h\n",
    "        check = False\n",
    "    else:\n",
    "        None\n",
    "g"
   ]
  },
  {
   "cell_type": "markdown",
   "id": "77c345d2-73cb-4e2d-a4d3-e4900759bd96",
   "metadata": {},
   "source": [
    "Al ser $g$ irreducible, para construir el conjunto $L$ nos basta con tomar una muestra aleatoria de tamaño $n$ de elementos del cuerpo $\\mathbb{F}_{q^m}$. Otras definiciones de los códigos de Goppa no exigen que $g$ sea irreducible, con lo que añadimos que para construir $L$ hay que tomar los $\\alpha_i \\in \\mathbb{F}_{q^m}$ tales que $g(\\alpha_i)\\neq 0$ $\\forall i\\in\\{1,\\ldots ,n\\}$. Pasamos pues a construir $L$:"
   ]
  },
  {
   "cell_type": "code",
   "execution_count": 39,
   "id": "664ab052-beae-494c-871d-57e6e83a6f6c",
   "metadata": {},
   "outputs": [
    {
     "data": {
      "text/plain": [
       "[a^3 + a^2,\n",
       " a^3 + a^2 + 1,\n",
       " a^3 + a,\n",
       " a^2 + a + 1,\n",
       " 1,\n",
       " a^3,\n",
       " a^3 + a^2 + a,\n",
       " a^2 + 1,\n",
       " a + 1,\n",
       " a^2,\n",
       " a^3 + 1,\n",
       " a,\n",
       " 0,\n",
       " a^3 + a^2 + a + 1]"
      ]
     },
     "execution_count": 39,
     "metadata": {},
     "output_type": "execute_result"
    }
   ],
   "source": [
    "L = sample(F.list(),n); L"
   ]
  },
  {
   "cell_type": "markdown",
   "id": "8a2a801b-4150-4a89-8838-e8a8296933ff",
   "metadata": {},
   "source": [
    "Al tener $g(x)$ y $L$, que son parámetros necesarios, ya podemos construir un código de Goppa. Para ello, vamos a trabajar con métodos predefinidos de SageMath:"
   ]
  },
  {
   "cell_type": "code",
   "execution_count": 40,
   "id": "f5bfb606-9585-458a-a59b-d2d26b6ad09b",
   "metadata": {},
   "outputs": [
    {
     "data": {
      "text/plain": [
       "[14, 6] Goppa code over GF(2)"
      ]
     },
     "execution_count": 40,
     "metadata": {},
     "output_type": "execute_result"
    }
   ],
   "source": [
    "C = codes.GoppaCode(g,L); C"
   ]
  },
  {
   "cell_type": "markdown",
   "id": "85cea7c3-28bd-4277-b9d1-6364e4b2ae4b",
   "metadata": {},
   "source": [
    "Como podemos ver, ya tenemos un $[n,k]-$código de Goppa $\\mathcal{C}$ definido sobre $\\mathbb{F}_{2}$."
   ]
  },
  {
   "cell_type": "code",
   "execution_count": 41,
   "id": "74ab481a-f888-46b6-85a4-4c171df69e25",
   "metadata": {},
   "outputs": [
    {
     "data": {
      "text/plain": [
       "[1 0 0 0 0 1 0 1 0 1 1 1 1 1]\n",
       "[0 1 0 0 0 1 0 1 1 1 0 1 0 0]\n",
       "[0 0 1 0 0 1 0 0 1 0 0 1 1 0]\n",
       "[0 0 0 1 0 1 0 0 1 1 0 0 0 1]\n",
       "[0 0 0 0 1 0 0 0 1 1 1 1 0 1]\n",
       "[0 0 0 0 0 0 1 1 0 1 1 1 0 0]"
      ]
     },
     "execution_count": 41,
     "metadata": {},
     "output_type": "execute_result"
    }
   ],
   "source": [
    "G = C.generator_matrix(); G"
   ]
  },
  {
   "cell_type": "markdown",
   "id": "827c85bf-3938-421e-b9d9-fb1a4b62a39f",
   "metadata": {},
   "source": [
    "Con el método C.generator_matrix() obtenemos una matriz generatriz del código."
   ]
  },
  {
   "cell_type": "code",
   "execution_count": 42,
   "id": "297604dd-0418-4268-8d25-dabd0f97c1ee",
   "metadata": {},
   "outputs": [
    {
     "data": {
      "text/plain": [
       "[0 1 0 1 0 0 1 0 1 0 1 0 1 0]\n",
       "[1 1 1 1 0 1 0 1 1 1 1 1 0 0]\n",
       "[0 1 0 1 1 1 0 1 1 0 1 0 0 1]\n",
       "[0 0 1 1 0 0 1 1 0 1 1 0 1 0]\n",
       "[1 1 0 1 0 1 1 1 1 0 0 0 0 1]\n",
       "[1 0 0 1 0 0 1 1 0 1 1 0 0 0]\n",
       "[0 1 0 0 1 1 1 0 0 1 1 1 0 0]\n",
       "[1 0 1 1 0 0 0 0 1 1 1 0 0 1]"
      ]
     },
     "execution_count": 42,
     "metadata": {},
     "output_type": "execute_result"
    }
   ],
   "source": [
    "H = C.parity_check_matrix(); H"
   ]
  },
  {
   "cell_type": "markdown",
   "id": "03cc5044-84f6-4f4c-812e-65d8477e0673",
   "metadata": {},
   "source": [
    "Con el método C.parity_check_matrix() obtenemos una matriz de control del código."
   ]
  },
  {
   "cell_type": "markdown",
   "id": "dddc34a6-a5bd-4597-8e7a-7f1251301d01",
   "metadata": {},
   "source": [
    "Para obtener la clave pública, necesitamos calcular $k$ que es la dimensión del código:"
   ]
  },
  {
   "cell_type": "code",
   "execution_count": 43,
   "id": "a19fd8aa-36d5-42f2-b9e4-2bb5bcc21c52",
   "metadata": {},
   "outputs": [
    {
     "data": {
      "text/plain": [
       "6"
      ]
     },
     "execution_count": 43,
     "metadata": {},
     "output_type": "execute_result"
    }
   ],
   "source": [
    "k = C.dimension(); k"
   ]
  },
  {
   "cell_type": "markdown",
   "id": "79205af4-e09e-4573-85a2-2740f88e9556",
   "metadata": {},
   "source": [
    "#### 2. Calculamos las clave pública y los parámetros privados:"
   ]
  },
  {
   "cell_type": "markdown",
   "id": "004b50f5-5d81-40ff-a446-058688987596",
   "metadata": {},
   "source": [
    "Empezamos calculando una matriz aleatoria $S$ invertible:"
   ]
  },
  {
   "cell_type": "code",
   "execution_count": 44,
   "id": "421bd645-3a67-4136-9a38-1cec5e762a5d",
   "metadata": {},
   "outputs": [
    {
     "data": {
      "text/plain": [
       "[0 0 1 0 0 1]\n",
       "[0 1 0 1 0 1]\n",
       "[1 0 1 0 1 1]\n",
       "[0 0 0 0 1 1]\n",
       "[0 0 1 1 0 1]\n",
       "[1 1 1 0 1 1]"
      ]
     },
     "execution_count": 44,
     "metadata": {},
     "output_type": "execute_result"
    }
   ],
   "source": [
    "S=random_matrix(GF(q),k);\n",
    "while rank(S) < k:\n",
    "    S = random_matrix(GF(q),k);\n",
    "S"
   ]
  },
  {
   "cell_type": "markdown",
   "id": "1ecd039f-d6c1-49e6-88fc-1a1ec1c0bd65",
   "metadata": {},
   "source": [
    "Y ahora calculamos una matriz de permutación $P$:"
   ]
  },
  {
   "cell_type": "code",
   "execution_count": 45,
   "id": "0ba939fb-1c24-42be-9f8b-cb15a81b2a1a",
   "metadata": {},
   "outputs": [
    {
     "data": {
      "text/plain": [
       "[0 0 0 0 0 0 0 0 1 0 0 0 0 0]\n",
       "[0 0 0 0 0 0 0 0 0 0 0 0 0 1]\n",
       "[0 1 0 0 0 0 0 0 0 0 0 0 0 0]\n",
       "[0 0 0 1 0 0 0 0 0 0 0 0 0 0]\n",
       "[0 0 0 0 0 0 0 1 0 0 0 0 0 0]\n",
       "[0 0 0 0 0 1 0 0 0 0 0 0 0 0]\n",
       "[0 0 1 0 0 0 0 0 0 0 0 0 0 0]\n",
       "[0 0 0 0 0 0 0 0 0 0 1 0 0 0]\n",
       "[0 0 0 0 0 0 1 0 0 0 0 0 0 0]\n",
       "[0 0 0 0 0 0 0 0 0 0 0 0 1 0]\n",
       "[0 0 0 0 0 0 0 0 0 1 0 0 0 0]\n",
       "[0 0 0 0 1 0 0 0 0 0 0 0 0 0]\n",
       "[0 0 0 0 0 0 0 0 0 0 0 1 0 0]\n",
       "[1 0 0 0 0 0 0 0 0 0 0 0 0 0]"
      ]
     },
     "execution_count": 45,
     "metadata": {},
     "output_type": "execute_result"
    }
   ],
   "source": [
    "columnas = [0..(n-1)]\n",
    "P = matrix(GF(q),n)\n",
    "for i in range(n):\n",
    "    posicion=randint(0,len(columnas)-1)\n",
    "    P[i,columnas.pop(posicion)]=1\n",
    "P"
   ]
  },
  {
   "cell_type": "markdown",
   "id": "6cd4196c-f519-425f-9b96-c3b3ac1bca41",
   "metadata": {},
   "source": [
    "Ya estamos en condiciones de poder calcular una clave pública de nuestro criptosistema:"
   ]
  },
  {
   "cell_type": "code",
   "execution_count": 46,
   "id": "64dbc5c0-9a49-47c7-a22a-3cc0a5d7936d",
   "metadata": {},
   "outputs": [
    {
     "data": {
      "text/plain": [
       "[0 1 1 0 0 1 1 0 0 1 1 1 1 0]\n",
       "[1 0 1 1 0 0 0 0 0 1 0 0 1 1]\n",
       "[0 1 1 0 0 0 0 1 1 1 0 0 1 0]\n",
       "[1 0 1 0 0 0 1 1 0 0 1 0 0 0]\n",
       "[1 1 1 1 0 0 0 0 0 1 1 1 0 0]\n",
       "[0 1 1 0 1 1 1 1 1 1 1 0 0 1]"
      ]
     },
     "execution_count": 46,
     "metadata": {},
     "output_type": "execute_result"
    }
   ],
   "source": [
    "Gp = S*G*P; Gp"
   ]
  },
  {
   "cell_type": "markdown",
   "id": "1f552732-1723-4db1-8b9e-8aec54bcef28",
   "metadata": {},
   "source": [
    "La clave pública es la matriz Gp y t."
   ]
  },
  {
   "cell_type": "code",
   "execution_count": 47,
   "id": "75e5c97c-cbfd-4c3e-96c9-58d3bf13fe00",
   "metadata": {},
   "outputs": [
    {
     "data": {
      "text/plain": [
       "(\n",
       "[0 1 1 0 0 1 1 0 0 1 1 1 1 0]   \n",
       "[1 0 1 1 0 0 0 0 0 1 0 0 1 1]   \n",
       "[0 1 1 0 0 0 0 1 1 1 0 0 1 0]   \n",
       "[1 0 1 0 0 0 1 1 0 0 1 0 0 0]   \n",
       "[1 1 1 1 0 0 0 0 0 1 1 1 0 0]   \n",
       "[0 1 1 0 1 1 1 1 1 1 1 0 0 1], 2\n",
       ")"
      ]
     },
     "execution_count": 47,
     "metadata": {},
     "output_type": "execute_result"
    }
   ],
   "source": [
    "(Gp,t)"
   ]
  },
  {
   "cell_type": "markdown",
   "id": "f6e67070-f248-4e58-88cb-ecb43cd2d549",
   "metadata": {},
   "source": [
    "Alice (o nosotros) tenemos el par de claves públicas $\\left(\\hat{\\textbf{G}},\\textbf{t}\\right)$ y mantenemos privadas $(G,S,P)$."
   ]
  },
  {
   "cell_type": "markdown",
   "id": "50fcc825-efa8-4854-b7b7-e22ad032d131",
   "metadata": {},
   "source": [
    "## Paso 2: Supongamos que Bob tiene que enviar un mensaje cifrado a Alice:"
   ]
  },
  {
   "cell_type": "markdown",
   "id": "c44d0b5d-c7e9-4196-bab8-4415795bbfcf",
   "metadata": {},
   "source": [
    "1. Bob tiene un mensaje binario de texto plano $m$ de longitud $k$. (En este caso lo vamos a generar de forma aleatoria como ejemplo)."
   ]
  },
  {
   "cell_type": "code",
   "execution_count": 48,
   "id": "84da875d-ac7a-4eca-8fca-ff5d3b887a94",
   "metadata": {},
   "outputs": [
    {
     "data": {
      "text/plain": [
       "(0, 0, 0, 1, 1, 1)"
      ]
     },
     "execution_count": 48,
     "metadata": {},
     "output_type": "execute_result"
    }
   ],
   "source": [
    "mensaje = vector([GF(q).random_element() for ii in range(C.dimension())]); mensaje"
   ]
  },
  {
   "cell_type": "markdown",
   "id": "3b254c7f-ec9e-4c7c-8d0c-188aee08c05b",
   "metadata": {},
   "source": [
    "2. Carga la clave pública de Alice: $\\left(\\hat{\\textbf{G}},\\textbf{t}\\right)$."
   ]
  },
  {
   "cell_type": "code",
   "execution_count": 49,
   "id": "38f2bc3c-0e62-458e-8a14-aa6c74bf637f",
   "metadata": {},
   "outputs": [
    {
     "data": {
      "text/plain": [
       "(\n",
       "[0 1 1 0 0 1 1 0 0 1 1 1 1 0]   \n",
       "[1 0 1 1 0 0 0 0 0 1 0 0 1 1]   \n",
       "[0 1 1 0 0 0 0 1 1 1 0 0 1 0]   \n",
       "[1 0 1 0 0 0 1 1 0 0 1 0 0 0]   \n",
       "[1 1 1 1 0 0 0 0 0 1 1 1 0 0]   \n",
       "[0 1 1 0 1 1 1 1 1 1 1 0 0 1], 2\n",
       ")"
      ]
     },
     "execution_count": 49,
     "metadata": {},
     "output_type": "execute_result"
    }
   ],
   "source": [
    "(Gp,t)"
   ]
  },
  {
   "cell_type": "markdown",
   "id": "d8637d91-462a-486d-8f17-16fda984084a",
   "metadata": {},
   "source": [
    "3. Genera un vector aleatorio $z$ de $n-$bits con peso $w(z)=t$."
   ]
  },
  {
   "cell_type": "markdown",
   "id": "c074e23b-aeb6-4fd8-9322-591fae0143b0",
   "metadata": {},
   "source": [
    "Una de las varias fortalezas de este criptosistema es que codificamos el mensaje añadiendo un error con peso menor o igual que $t$."
   ]
  },
  {
   "cell_type": "code",
   "execution_count": 50,
   "id": "e52533dc-2f0f-43a9-bd7d-a7c654bde82d",
   "metadata": {},
   "outputs": [
    {
     "data": {
      "text/plain": [
       "(0, 0, 0, 0, 0, 0, 1, 0, 0, 0, 0, 0, 0, 0)"
      ]
     },
     "execution_count": 50,
     "metadata": {},
     "output_type": "execute_result"
    }
   ],
   "source": [
    "error = [GF(q)(0) for ii in range(n)]\n",
    "for ii in range(t): # Con esto aseguramos que el error tenga peso <= t\n",
    "    error[ZZ.random_element(n)] = GF(q).random_element()\n",
    "\n",
    "z = vector(error); z"
   ]
  },
  {
   "cell_type": "markdown",
   "id": "ff9e9342-0772-4203-ab21-7ea01b6e8383",
   "metadata": {},
   "source": [
    "4. Bob calcula el texto cifrado $c=m\\cdot\\hat{\\textbf{G}}+z$ y lo envía a Alice."
   ]
  },
  {
   "cell_type": "code",
   "execution_count": 51,
   "id": "1fdd97ec-55f3-40e6-bc40-997afeeae6ca",
   "metadata": {},
   "outputs": [
    {
     "data": {
      "text/plain": [
       "(0, 0, 1, 1, 1, 1, 1, 0, 1, 0, 1, 1, 0, 1)"
      ]
     },
     "execution_count": 51,
     "metadata": {},
     "output_type": "execute_result"
    }
   ],
   "source": [
    "c = mensaje*Gp+z; c"
   ]
  },
  {
   "cell_type": "markdown",
   "id": "15431d10-7a22-4220-9b55-ffb2d9ba65cc",
   "metadata": {},
   "source": [
    "## Paso 3: Supongamos que Alice ha recibido el texto cifrado $c$. Ella descifra el texto cifrado recibido como:"
   ]
  },
  {
   "cell_type": "markdown",
   "id": "741bf8b8-044f-45bb-9d03-7a1ca3159679",
   "metadata": {},
   "source": [
    "1. Alice calcula $P^{-1}$ usando su clave privada."
   ]
  },
  {
   "cell_type": "code",
   "execution_count": 52,
   "id": "43b04689-d5ea-4df9-b784-fdf09d35b28f",
   "metadata": {},
   "outputs": [
    {
     "data": {
      "text/plain": [
       "[0 0 0 0 0 0 0 0 0 0 0 0 0 1]\n",
       "[0 0 1 0 0 0 0 0 0 0 0 0 0 0]\n",
       "[0 0 0 0 0 0 1 0 0 0 0 0 0 0]\n",
       "[0 0 0 1 0 0 0 0 0 0 0 0 0 0]\n",
       "[0 0 0 0 0 0 0 0 0 0 0 1 0 0]\n",
       "[0 0 0 0 0 1 0 0 0 0 0 0 0 0]\n",
       "[0 0 0 0 0 0 0 0 1 0 0 0 0 0]\n",
       "[0 0 0 0 1 0 0 0 0 0 0 0 0 0]\n",
       "[1 0 0 0 0 0 0 0 0 0 0 0 0 0]\n",
       "[0 0 0 0 0 0 0 0 0 0 1 0 0 0]\n",
       "[0 0 0 0 0 0 0 1 0 0 0 0 0 0]\n",
       "[0 0 0 0 0 0 0 0 0 0 0 0 1 0]\n",
       "[0 0 0 0 0 0 0 0 0 1 0 0 0 0]\n",
       "[0 1 0 0 0 0 0 0 0 0 0 0 0 0]"
      ]
     },
     "execution_count": 52,
     "metadata": {},
     "output_type": "execute_result"
    }
   ],
   "source": [
    "Pinv = P.inverse(); Pinv"
   ]
  },
  {
   "cell_type": "markdown",
   "id": "e077aa4a-523f-4469-9b64-044bae2ca0a3",
   "metadata": {},
   "source": [
    "2. Multiplicamos el texto recibido por $P^{-1}$:$$c\\cdot P^{-1}=m\\cdot S\\cdot G+z\\cdot P^{-1}$$"
   ]
  },
  {
   "cell_type": "code",
   "execution_count": 53,
   "id": "fe52b81d-66ff-4c41-8ea3-1a6efc543a18",
   "metadata": {},
   "outputs": [
    {
     "data": {
      "text/plain": [
       "(1, 1, 0, 1, 0, 1, 1, 1, 1, 0, 0, 1, 1, 0)"
      ]
     },
     "execution_count": 53,
     "metadata": {},
     "output_type": "execute_result"
    }
   ],
   "source": [
    "cnew = c*Pinv; cnew"
   ]
  },
  {
   "cell_type": "markdown",
   "id": "62721084-0673-4c0b-945e-693ae6093d4b",
   "metadata": {},
   "source": [
    "3. Finalmente, utiliza el algoritmo de descodificación de los códigos Goppa para determinar el valor de $m$."
   ]
  },
  {
   "cell_type": "markdown",
   "id": "cde59c09-452d-43bc-9f40-3b22fe253e85",
   "metadata": {},
   "source": [
    "Paso 1: Descodificamos el mensaje cnew. Para ello recurrimos al método predefinido C.decode_to_code()."
   ]
  },
  {
   "cell_type": "code",
   "execution_count": 54,
   "id": "d1e3a482-b6e4-4a1d-bd2e-e1177adddd3b",
   "metadata": {},
   "outputs": [
    {
     "data": {
      "text/plain": [
       "(1, 1, 0, 1, 0, 1, 1, 1, 0, 0, 0, 1, 1, 0)"
      ]
     },
     "execution_count": 54,
     "metadata": {},
     "output_type": "execute_result"
    }
   ],
   "source": [
    "x1 = C.decode_to_code(cnew); x1"
   ]
  },
  {
   "cell_type": "markdown",
   "id": "93d420e4-76aa-4701-9fc4-d21e5cddab03",
   "metadata": {},
   "source": [
    "Paso 2: Nos quedamos con las primeras $k$ componentes de $x_1$, las restantes $n-k$ componentes son añadidas simplemente para que el mensaje codificado tenga longitud $n$ no aportando nada de información."
   ]
  },
  {
   "cell_type": "code",
   "execution_count": 55,
   "id": "e955bd59-20c1-4fc9-b226-1df848aeb9fc",
   "metadata": {},
   "outputs": [
    {
     "data": {
      "text/plain": [
       "(1, 1, 0, 1, 0, 1)"
      ]
     },
     "execution_count": 55,
     "metadata": {},
     "output_type": "execute_result"
    }
   ],
   "source": [
    "x0 = vector([x1[i] for i in range(0,C.dimension())]); x0"
   ]
  },
  {
   "cell_type": "markdown",
   "id": "c3c358b1-e04b-4f99-96a4-a597c146f0c5",
   "metadata": {},
   "source": [
    "Paso 3: Recuperamos el mensaje original sin errores."
   ]
  },
  {
   "cell_type": "code",
   "execution_count": 56,
   "id": "23b1be6a-6456-40dd-a5ac-27da0457ed50",
   "metadata": {},
   "outputs": [
    {
     "data": {
      "text/plain": [
       "(0, 0, 0, 1, 1, 1)"
      ]
     },
     "execution_count": 56,
     "metadata": {},
     "output_type": "execute_result"
    }
   ],
   "source": [
    "x0*S.inverse()"
   ]
  },
  {
   "cell_type": "markdown",
   "id": "b35fe961-dc80-41d9-9728-ba248ef3d3a7",
   "metadata": {},
   "source": [
    "Y como se puede observar, hemos desencriptado (y corregido) nuestro mensaje encriptado."
   ]
  },
  {
   "cell_type": "markdown",
   "id": "aae9489a-c9fd-4130-bfc5-ae40944d1ea4",
   "metadata": {},
   "source": [
    "#### Comentarios."
   ]
  }
 ],
 "metadata": {
  "kernelspec": {
   "display_name": "SageMath 10.2",
   "language": "sage",
   "name": "sagemath-10.2"
  },
  "language_info": {
   "codemirror_mode": {
    "name": "ipython",
    "version": 3
   },
   "file_extension": ".py",
   "mimetype": "text/x-python",
   "name": "python",
   "nbconvert_exporter": "python",
   "pygments_lexer": "ipython3",
   "version": "3.11.1"
  }
 },
 "nbformat": 4,
 "nbformat_minor": 5
}
